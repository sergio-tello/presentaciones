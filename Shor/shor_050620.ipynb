{
 "cells": [
  {
   "cell_type": "markdown",
   "metadata": {},
   "source": [
    "# <font color=\"#6b5b95\"> Cómo factorizar enteros con un computador cuántico </font>\n",
    "\n",
    "*por* Sergio Tello"
   ]
  },
  {
   "cell_type": "markdown",
   "metadata": {},
   "source": [
    "### <font color=\"#feb236\"> Contenidos </font>\n",
    "\n",
    "* [Factorización y computación clásica](#sec1)\n",
    "* [Factorizar usando el periodo de una función](#sec2)\n",
    "* [Algoritmo de Shor](#sec3)"
   ]
  },
  {
   "cell_type": "markdown",
   "metadata": {},
   "source": [
    "<a id=\"sec1\"></a>"
   ]
  },
  {
   "cell_type": "markdown",
   "metadata": {},
   "source": [
    "### <font color=\"#d64161\">Factorización y computación clásica</font>"
   ]
  },
  {
   "cell_type": "markdown",
   "metadata": {},
   "source": [
    "**Factorizar** un número es escribirlo como un producto de números primos.\n",
    "\n",
    "Por ejemplo, pueden pedirnos que factoricemos el número $N = 91$ que tiene 2 dígitos.\n",
    "\n",
    "Usando el algoritmo que aprendimos en el colegio en el que preguntábamos: ¿es divisible por 2?, ¿es divisible por 3?, ¿es divisible por 5?, etc. Llegaremos rápidamente a que\n",
    "\n",
    "$$ N = 91 = 7 \\times 13 $$\n",
    "\n",
    "**¿Qué pasaría si nos piden factorizar un número más grande?**\n",
    "\n",
    "$$1522605027922533360535618378132637429718068114961380688657908494580122963258952897654000350692006139$$\n",
    "\n",
    "Este número tiene 100 dígitos y nombre propio, se llama RSA-100.\n",
    "\n",
    "Factorizar no es difícil, es muy demorado que es distinto. "
   ]
  },
  {
   "cell_type": "markdown",
   "metadata": {},
   "source": [
    "<p style=\"font-size:40px\">  <font color=\"#feb236\">&#9755;</font></p> \n",
    "<i>Ejecuta la celda siguiente (haz clic sobre ella y teclea ctrl + enter) para ver cuántos enteros de 10, 12 y 14 dígitos alcanzamos a factorizar en 10 segundos.</i>"
   ]
  },
  {
   "cell_type": "code",
   "execution_count": null,
   "metadata": {},
   "outputs": [],
   "source": [
    "%run demo_factorizar.py"
   ]
  },
  {
   "cell_type": "markdown",
   "metadata": {},
   "source": [
    "Para factorizar RSA-100 con nuestro algoritmo de la demostración anterior, gastaríamos más tiempo que la edad que tiene el Universo. Por supuesto existen mejores algoritmos para factorizar enteros y el número RSA-100 ya fue factorizado. Sin embargo hay muchos otros números RSA que tienen desde 280 hasta más de 600 dígitos y cuya factorización es todavía un misterio.\n",
    "\n",
    "RSA es un algoritmo de criptografía de clave pública desarrollado por Rivest, Shamir y Adleman en 1977. Empresas como Skype y Telegram basan parte de la seguridad de las comunicaciones en este algoritmo. RSA es difícil de romper porque con los algoritmos clásicos y probabilísticos que hemos desarrollado y con nuestros computadores clásicos somos incapaces de factorizar números grandes en tiempos razonables."
   ]
  },
  {
   "cell_type": "markdown",
   "metadata": {},
   "source": [
    "<a id=\"sec2\"></a>"
   ]
  },
  {
   "cell_type": "markdown",
   "metadata": {},
   "source": [
    "### <font color=\"#d64161\"> Factorizar usando el periodo de una función </font>"
   ]
  },
  {
   "cell_type": "markdown",
   "metadata": {},
   "source": [
    "Retomemos nuestro ejemplo de $N = 91$.\n",
    "\n",
    "**Un nuevo algoritmo para factorizar:**\n",
    "\n",
    "1. Tome al azar un entero $a$ que sea mayor que 1 y menor que $N$ y que no tenga factores en común con $N$. Por ejemplo: $a = 6$."
   ]
  },
  {
   "cell_type": "code",
   "execution_count": null,
   "metadata": {},
   "outputs": [],
   "source": [
    "#Factor común más grande entre dos números (Algoritmo de Euclides)\n",
    "def mayor_factor_comun(a, b):\n",
    "    if b == 0:\n",
    "        return a\n",
    "    else:\n",
    "        print(a, '=', b, '*', a//b, '+', a % b)\n",
    "        return mayor_factor_comun(b, a % b)"
   ]
  },
  {
   "cell_type": "code",
   "execution_count": null,
   "metadata": {},
   "outputs": [],
   "source": [
    "mayor_factor_comun(6, 91)"
   ]
  },
  {
   "cell_type": "markdown",
   "metadata": {},
   "source": [
    "2. Determine el periodo de la función $f(x) = (a^x \\mathrm{mod} N)$. Esto es más fácil de ver gráficamente:"
   ]
  },
  {
   "cell_type": "code",
   "execution_count": null,
   "metadata": {},
   "outputs": [],
   "source": [
    "%matplotlib inline\n",
    "%run periodo.py"
   ]
  },
  {
   "cell_type": "markdown",
   "metadata": {},
   "source": [
    "Por lo tanto el periodo es 12.\n",
    "\n",
    "3. Que el periodo sea 12 quiere decir que cuando dividimos $6^{12}$ entre 91, sobra 1. Es decir:\n",
    "\n",
    "$$\\frac{6^{12} - 1}{91}$$\n",
    "\n",
    "es una división exacta.\n",
    "\n",
    "4. Factorizamos el numerador usando que es una *diferencia de cuadrados*:\n",
    "\n",
    "$$\\frac{(6^6 - 1)(6^6 + 1)}{91}$$\n",
    "\n",
    "5. Calculamos el valor de cada paréntesis:\n",
    "\n",
    "$$\\frac{(46655)(46657)}{91}$$\n",
    "\n",
    "6. Para encontrar los factores de 91 hallamos el mayor factor común entre cada uno de los números y 91 (esto funciona pues la división es exacta + **otros detalles** que de no cumplirse hacen que debamos regresar al paso 1):"
   ]
  },
  {
   "cell_type": "code",
   "execution_count": null,
   "metadata": {},
   "outputs": [],
   "source": [
    "mayor_factor_comun(46655, 91)"
   ]
  },
  {
   "cell_type": "code",
   "execution_count": null,
   "metadata": {},
   "outputs": [],
   "source": [
    "mayor_factor_comun(46657, 91)"
   ]
  },
  {
   "cell_type": "markdown",
   "metadata": {},
   "source": [
    "<a id=\"sec3\"></a>"
   ]
  },
  {
   "cell_type": "markdown",
   "metadata": {},
   "source": [
    "### <font color=\"#d64161\"> El algoritmo de factorización de Shor </font>"
   ]
  },
  {
   "cell_type": "markdown",
   "metadata": {},
   "source": [
    "El algoritmo de Shor consta de los 6 pasos que acabamos de describir. Hay un problema con el paso 2 y es que obtener la gráfica que vimos es tan costoso en número de operaciones y tiempo como los problemas de factorización que vimos al inicio. Peter Shor resolvió el problema en 1994 demostrando que en un computador cuántico se puede hallar el perido requerido en un tiempo polinomial (del orden $L^3$ donde $L$ es la longitud en bits del número que se quiere factorizar).\n",
    "\n",
    "![](peter_shor.jpg)\n",
    "<center> <i>Peter Shor - Fotografía: Fundación BBVA</i> </center>"
   ]
  },
  {
   "cell_type": "markdown",
   "metadata": {},
   "source": [
    "Para este ejemplo escogeremos $N = 21$ y $a = 10$.\n",
    "\n",
    "La cadena 10101, en sistema binario, equivale al decimal 21. Es decir, necesitamos $L = 5$ qubits para representar el número $N$."
   ]
  },
  {
   "cell_type": "markdown",
   "metadata": {},
   "source": [
    "![](shor_circuit.png)\n",
    "<center> <i>Esquema circuito Algoritmo de Shor - Imagen: Nielsen y Chuang</i> </center>"
   ]
  },
  {
   "cell_type": "markdown",
   "metadata": {},
   "source": [
    "Después de realizada la medición llegamos al estado:\n",
    "\n",
    "$$0 0 1 0 1 0 1 0 1 0 1$$\n",
    "\n",
    "Lo que se traduce en:\n",
    "\n",
    "$$ \\frac{1}{8} + \\frac{1}{32} + \\frac{1}{128} + \\frac{1}{512} + \\frac{1}{2048} = \\frac{341}{2048} $$\n",
    "\n",
    "Escribimos este número en la forma de *fracción continua*:\n",
    "\n",
    "$$\\frac{1}{\\frac{2048}{341}} = \\cfrac{1}{6+\\cfrac{1}{170+\\cfrac{1}{2}}}$$\n",
    "\n",
    "Luego de verificar algunas condiciones tomamos de esta fracción la primera aproximación:\n",
    "\n",
    "$$\\frac{1}{6}$$\n",
    "\n",
    "De aquí obtenemos que el periodo es $6$ (siempre el denominador de la fracción)."
   ]
  },
  {
   "cell_type": "code",
   "execution_count": null,
   "metadata": {},
   "outputs": [],
   "source": [
    "%run periodo1.py"
   ]
  },
  {
   "cell_type": "markdown",
   "metadata": {},
   "source": [
    "En efecto, cuando se divide $10^6$ entre $21$ obtenemos como residuo $1$. Es decir:\n",
    "\n",
    "$$\\frac{10^{6} - 1}{21}$$\n",
    "\n",
    "es una división exacta.\n",
    "\n",
    "* Factorizamos el numerador usando que es una *diferencia de cuadrados*:\n",
    "\n",
    "$$\\frac{(10^3 - 1)(10^3 + 1)}{21}$$\n",
    "\n",
    "* Calculamos el valor de cada paréntesis:\n",
    "\n",
    "$$\\frac{(999)(1001)}{21}$$\n",
    "\n",
    "Para encontrar los factores de 21 hallamos el mayor factor común entre cada uno de los números y 21:"
   ]
  },
  {
   "cell_type": "code",
   "execution_count": null,
   "metadata": {},
   "outputs": [],
   "source": [
    "mayor_factor_comun(999, 21)"
   ]
  },
  {
   "cell_type": "code",
   "execution_count": null,
   "metadata": {},
   "outputs": [],
   "source": [
    "mayor_factor_comun(1001, 21)"
   ]
  },
  {
   "cell_type": "markdown",
   "metadata": {},
   "source": [
    "### <font color=\"#ff7b25\"> Referencias </font>\n",
    "\n",
    "* Abraham Asfaw, Luciano Bello et al. *Learn Quantum Computation Using Qiskit*. http://community.qiskit.org/textbook. 2020.\n",
    "* Michael Nielsen e Isaac Chuang. *Quantum Computation and Quantum Information*. Cambridge University Press. 2010.\n"
   ]
  },
  {
   "cell_type": "markdown",
   "metadata": {},
   "source": [
    "---\n",
    "*Un Jupyter Notebook creado por Sergio Tello - 05/06/2020*\n",
    "\n",
    "Actualizado el 14/06/2020"
   ]
  }
 ],
 "metadata": {
  "kernelspec": {
   "display_name": "Python 3",
   "language": "python",
   "name": "python3"
  },
  "language_info": {
   "codemirror_mode": {
    "name": "ipython",
    "version": 3
   },
   "file_extension": ".py",
   "mimetype": "text/x-python",
   "name": "python",
   "nbconvert_exporter": "python",
   "pygments_lexer": "ipython3",
   "version": "3.7.3"
  }
 },
 "nbformat": 4,
 "nbformat_minor": 2
}
